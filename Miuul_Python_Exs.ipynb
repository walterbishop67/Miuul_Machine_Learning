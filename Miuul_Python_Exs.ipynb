{
 "cells": [
  {
   "cell_type": "code",
   "execution_count": 1,
   "id": "cdae6649",
   "metadata": {},
   "outputs": [
    {
     "name": "stdout",
     "output_type": "stream",
     "text": [
      "<class 'int'>\n",
      "<class 'float'>\n",
      "<class 'complex'>\n",
      "<class 'str'>\n",
      "<class 'bool'>\n",
      "<class 'bool'>\n",
      "<class 'list'>\n",
      "<class 'dict'>\n",
      "<class 'tuple'>\n",
      "<class 'set'>\n"
     ]
    }
   ],
   "source": [
    "#mission_one\n",
    "x = 8\n",
    "y = 3.2\n",
    "z = 8j + 18\n",
    "a = \"Hello World\"\n",
    "b = True\n",
    "c = 23 < 22\n",
    "l= [1, 2, 3, 4]\n",
    "d = {\"Name\": \"Jake\",\n",
    "     \"Age\": 27,\n",
    "     \"Adress\": \"Downtown\"}\n",
    "t = (\"Machine Learning\", \"Data Science\")\n",
    "s = {\"Python\", \"Machine Learning\", \"Data Science\"}\n",
    "letters = [x, y, z, a, b, c, l, d, t, s]\n",
    "for i in letters:\n",
    "    print(type(i))"
   ]
  },
  {
   "cell_type": "code",
   "execution_count": 2,
   "id": "e3a706d0",
   "metadata": {},
   "outputs": [
    {
     "name": "stdout",
     "output_type": "stream",
     "text": [
      "['THE', 'GOAL', 'IS', 'TO', 'TURN', 'DATA', 'INTO', 'INFORMATION', 'AND', 'INFORMATION', 'INTO', 'INSIGHT']\n",
      "['THE', 'GOAL', 'IS', 'TO', 'TURN', 'DATA', 'INTO', 'INFORMATION', 'AND', 'INFORMATION', 'INTO', 'INSIGHT']\n"
     ]
    }
   ],
   "source": [
    "#mission_2.1\n",
    "text = \"The goal is to turn data into information, and information into insight.\"\n",
    "text = text.upper()\n",
    "new_text = []\n",
    "text = text.replace(',', '').replace('.', ' ')\n",
    "temp = \"\"\n",
    "for i in text:\n",
    "    if i != ' ':\n",
    "        temp += i\n",
    "    else:\n",
    "        new_text.append(temp)\n",
    "        temp = \"\"\n",
    "\n",
    "print(new_text)\n",
    "\n",
    "#mission_2.2\n",
    "text = text.upper()\n",
    "text = text.replace(',', ' ').replace('.', ' ')\n",
    "words = text.split()\n",
    "\n",
    "print(words)"
   ]
  },
  {
   "cell_type": "code",
   "execution_count": 3,
   "id": "ae38d69b",
   "metadata": {},
   "outputs": [
    {
     "name": "stdout",
     "output_type": "stream",
     "text": [
      "Step 1: 11\n",
      "Step 2: D E\n",
      "Step 3: ['D', 'A', 'T', 'A']\n",
      "Step 4: ['D', 'A', 'T', 'A', 'S', 'C', 'I', 'E', 'C', 'E']\n",
      "Step 5: ['D', 'A', 'T', 'A', 'S', 'C', 'I', 'E', 'C', 'E', 'Q']\n",
      "Step 6: ['D', 'A', 'T', 'A', 'S', 'C', 'I', 'E', 'N', 'C', 'E', 'Q']\n"
     ]
    }
   ],
   "source": [
    "#mission_3\n",
    "lst = [\"D\", \"A\", \"T\",\"A\",\"S\",\"C\",\"I\",\"E\",\"N\",\"C\",\"E\"]\n",
    "print(\"Step 1: \" + str(len(lst)))\n",
    "print(\"Step 2: \" + str(lst[0]) + \" \" + str(lst[10]))\n",
    "print(\"Step 3: \" + str(lst[0:4]))\n",
    "lst.remove(lst[8])\n",
    "print(\"Step 4: \" + str(lst))\n",
    "lst.append('Q')\n",
    "print(\"Step 5: \" + str(lst))\n",
    "lst.insert(8, 'N')\n",
    "print(\"Step 6: \" + str(lst))"
   ]
  },
  {
   "cell_type": "code",
   "execution_count": 4,
   "id": "cb443f22",
   "metadata": {},
   "outputs": [
    {
     "name": "stdout",
     "output_type": "stream",
     "text": [
      "Step 1: dict_keys(['Cristian', 'Daisy', 'Antonio', 'Dante'])\n",
      "Step 2: dict_values([['America', 18], ['England', 12], ['Spain', 22], ['Italy', 25]])\n",
      "Step 3: {'Cristian': ['America', 18], 'Daisy': ['England', 13], 'Antonio': ['Spain', 22], 'Dante': ['Italy', 25]}\n",
      "Step 4: {'Cristian': ['America', 18], 'Daisy': ['England', 13], 'Antonio': ['Spain', 22], 'Dante': ['Italy', 25], 'Ahmet': ['Turkey', 24]}\n",
      "Step 5: {'Cristian': ['America', 18], 'Daisy': ['England', 13], 'Dante': ['Italy', 25], 'Ahmet': ['Turkey', 24]}\n"
     ]
    }
   ],
   "source": [
    "#mission_4\n",
    "dict = {'Cristian': [\"America\", 18],\n",
    "        'Daisy': [\"England\", 12],\n",
    "        'Antonio': [\"Spain\", 22],\n",
    "        'Dante': [\"Italy\", 25]}\n",
    "\n",
    "print(\"Step 1: \" + str(dict.keys()))\n",
    "print(\"Step 2: \" + str(dict.values()))\n",
    "dict['Daisy'][1] = 13\n",
    "print(\"Step 3: \" + str(dict))\n",
    "#dict['Ahmet'] = [\"Turkey\", 24]\n",
    "dict.update({'Ahmet': [\"Turkey\", 24]})\n",
    "print(\"Step 4: \" + str(dict))\n",
    "dict.pop('Antonio')\n",
    "print(\"Step 5: \" + str(dict))"
   ]
  },
  {
   "cell_type": "code",
   "execution_count": 5,
   "id": "387ee5ce",
   "metadata": {},
   "outputs": [
    {
     "name": "stdout",
     "output_type": "stream",
     "text": [
      "[2, 18, 22]\n",
      "[13, 93]\n"
     ]
    }
   ],
   "source": [
    "#mission_5\n",
    "l = [2, 13, 18, 93, 22]\n",
    "def func(lis):\n",
    "    even = []\n",
    "    odd = []\n",
    "    for i in lis:\n",
    "        if i % 2 == 0:\n",
    "            even.append(i)\n",
    "        else:\n",
    "            odd.append(i)\n",
    "    return even, odd\n",
    "even_l, odd_l = func(l)\n",
    "print(even_l)\n",
    "print(odd_l)"
   ]
  },
  {
   "cell_type": "code",
   "execution_count": 6,
   "id": "c739ca7b",
   "metadata": {},
   "outputs": [
    {
     "name": "stdout",
     "output_type": "stream",
     "text": [
      "Mühendislik Fakültesi 1. öğrenci: Ali\n",
      "Mühendislik Fakültesi 2. öğrenci: Veli\n",
      "Mühendislik Fakültesi 3. öğrenci: Ayşe\n",
      "Tıp Fakültesi 1. öğrenci: Talat\n",
      "Tıp Fakültesi 2. öğrenci: Zeynep\n",
      "Tıp Fakültesi 3. öğrenci: Ece\n"
     ]
    }
   ],
   "source": [
    "#mission_6\n",
    "students = [\"Ali\", \"Veli\", \"Ayşe\", \"Talat\", \"Zeynep\", \"Ece\"]\n",
    "\n",
    "for index, student in enumerate(students, 1):\n",
    "    if index < 4:\n",
    "        print(\"Mühendislik Fakültesi \" + str(index) + \". öğrenci: \" + student)\n",
    "    else:\n",
    "        print(\"Tıp Fakültesi \" + str(index - 3) + \". öğrenci: \" + student)"
   ]
  },
  {
   "cell_type": "code",
   "execution_count": 7,
   "id": "a3b6dea4",
   "metadata": {},
   "outputs": [
    {
     "name": "stdout",
     "output_type": "stream",
     "text": [
      "Kredisi 3 olan CMP1005 kodlu dersin kontenjanı 30 kişidir\n",
      "Kredisi 4 olan PYS1001 kodlu dersin kontenjanı 75 kişidir\n",
      "Kredisi 2 olan HUK1005 kodlu dersin kontenjanı 150 kişidir\n",
      "Kredisi 4 olan SEN2204 kodlu dersin kontenjanı 25 kişidir\n"
     ]
    }
   ],
   "source": [
    "#mission_7\n",
    "ders_kodu = [\"CMP1005\", \"PYS1001\", \"HUK1005\", \"SEN2204\"]\n",
    "kredi = [3, 4, 2, 4]\n",
    "kontenjan = [30, 75, 150, 25]\n",
    "\n",
    "zipped = list(zip(ders_kodu, kredi, kontenjan))\n",
    "for i in zipped:\n",
    "    print(f\"Kredisi {i[1]} olan {i[0]} kodlu dersin kontenjanı {i[2]} kişidir\")"
   ]
  },
  {
   "cell_type": "code",
   "execution_count": 10,
   "id": "82c3d867",
   "metadata": {
    "scrolled": true
   },
   "outputs": [
    {
     "name": "stdout",
     "output_type": "stream",
     "text": [
      "{'qcut', 'function', 'lambda', 'miuul'}\n"
     ]
    }
   ],
   "source": [
    "#mission_8\n",
    "kume1 = set([\"data\", \"python\"])\n",
    "kume2 = set([\"data\", \"function\", \"qcut\", \"lambda\", \"python\", \"miuul\"])\n",
    "\n",
    "if kume1.issuperset(kume2):\n",
    "    ortak_elemanlar = kume1.intersection(kume2)\n",
    "    print(ortak_elemanlar)\n",
    "else:\n",
    "    fark = kume2.difference(kume1)\n",
    "    print(fark)"
   ]
  }
 ],
 "metadata": {
  "kernelspec": {
   "display_name": "Python 3 (ipykernel)",
   "language": "python",
   "name": "python3"
  },
  "language_info": {
   "codemirror_mode": {
    "name": "ipython",
    "version": 3
   },
   "file_extension": ".py",
   "mimetype": "text/x-python",
   "name": "python",
   "nbconvert_exporter": "python",
   "pygments_lexer": "ipython3",
   "version": "3.10.9"
  }
 },
 "nbformat": 4,
 "nbformat_minor": 5
}
