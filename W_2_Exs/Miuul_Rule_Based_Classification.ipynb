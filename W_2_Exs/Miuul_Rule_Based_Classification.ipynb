{ 
 "cells": [
  {
   "cell_type": "code",
   "execution_count": 2,
   "id": "3756b899",
   "metadata": {},
   "outputs": [
    {
     "name": "stdout",
     "output_type": "stream",
     "text": [
      "   PRICE   SOURCE   SEX COUNTRY  AGE\n",
      "0     39  android  male     bra   17\n",
      "1     39  android  male     bra   17\n",
      "2     49  android  male     bra   17\n",
      "3     29  android  male     tur   17\n",
      "4     49  android  male     tur   17\n"
     ]
    }
   ],
   "source": [
    "import pandas as pd\n",
    "\n",
    "df = pd.read_csv(r'C:\\Users\\umut3\\Desktop\\KuralTabanlSnflandrma-230620-161541\\persona.csv')\n",
    "print(df.head())"
   ]
  },
  {
   "cell_type": "code",
   "execution_count": 3,
   "id": "1f7e7c21",
   "metadata": {},
   "outputs": [
    {
     "name": "stdout",
     "output_type": "stream",
     "text": [
      "################# SHAPE ################\n",
      "(5000, 5)\n",
      "################# TYPES ################\n",
      "PRICE       int64\n",
      "SOURCE     object\n",
      "SEX        object\n",
      "COUNTRY    object\n",
      "AGE         int64\n",
      "dtype: object\n",
      "################# HEAD ################\n",
      "   PRICE   SOURCE   SEX COUNTRY  AGE\n",
      "0     39  android  male     bra   17\n",
      "1     39  android  male     bra   17\n",
      "2     49  android  male     bra   17\n",
      "3     29  android  male     tur   17\n",
      "4     49  android  male     tur   17\n",
      "################# TAIL ################\n",
      "      PRICE   SOURCE     SEX COUNTRY  AGE\n",
      "4995     29  android  female     bra   31\n",
      "4996     29  android  female     bra   31\n",
      "4997     29  android  female     bra   31\n",
      "4998     39  android  female     bra   31\n",
      "4999     29  android  female     bra   31\n",
      "################# NA ################\n",
      "PRICE      0\n",
      "SOURCE     0\n",
      "SEX        0\n",
      "COUNTRY    0\n",
      "AGE        0\n",
      "dtype: int64\n",
      "################# QUANTILES ################\n",
      "        count     mean        std   min    0%    5%   50%   95%   99%  100%  \\\n",
      "PRICE  5000.0  34.1320  12.464897   9.0   9.0  19.0  39.0  49.0  59.0  59.0   \n",
      "AGE    5000.0  23.5814   8.995908  15.0  15.0  15.0  21.0  43.0  53.0  66.0   \n",
      "\n",
      "        max  \n",
      "PRICE  59.0  \n",
      "AGE    66.0  \n"
     ]
    }
   ],
   "source": [
    "# Question 1: persona.have the csv file read and show general information about the data set\n",
    "def check_info(dataFrame, head=5):\n",
    "    print(\"################# SHAPE ################\")\n",
    "    print(dataFrame.shape)\n",
    "\n",
    "    print(\"################# TYPES ################\")\n",
    "    print(dataFrame.dtypes)\n",
    "\n",
    "    print(\"################# HEAD ################\")\n",
    "    print(dataFrame.head(head))\n",
    "\n",
    "    print(\"################# TAIL ################\")\n",
    "    print(dataFrame.tail(head))\n",
    "\n",
    "    print(\"################# NA ################\")\n",
    "    print(dataFrame.isnull().sum())\n",
    "\n",
    "    print(\"################# QUANTILES ################\")\n",
    "    print(dataFrame.describe([0, 0.05, 0.50, 0.95, 0.99, 1]).T)\n",
    "\n",
    "check_info(df)"
   ]
  },
  {
   "cell_type": "code",
   "execution_count": 4,
   "id": "0cfe8e1f",
   "metadata": {},
   "outputs": [
    {
     "name": "stdout",
     "output_type": "stream",
     "text": [
      "2\n"
     ]
    }
   ],
   "source": [
    "# Question 2: How many unique SOURCE are there? What are their frequencies?\n",
    "print(df['SOURCE'].nunique())"
   ]
  },
  {
   "cell_type": "code",
   "execution_count": 5,
   "id": "603e00bb",
   "metadata": {},
   "outputs": [
    {
     "name": "stdout",
     "output_type": "stream",
     "text": [
      "6\n"
     ]
    }
   ],
   "source": [
    "# Question 3: How many unique PRICEs are there?\n",
    "print(df['PRICE'].nunique())"
   ]
  },
  {
   "cell_type": "code",
   "execution_count": 6,
   "id": "348a7767",
   "metadata": {},
   "outputs": [
    {
     "name": "stdout",
     "output_type": "stream",
     "text": [
      "29    1305\n",
      "39    1260\n",
      "49    1031\n",
      "19     992\n",
      "59     212\n",
      "9      200\n",
      "Name: PRICE, dtype: int64\n"
     ]
    }
   ],
   "source": [
    "# Question 4: How many sales were made from which PRICE?\n",
    "print(df['PRICE'].value_counts())"
   ]
  },
  {
   "cell_type": "code",
   "execution_count": 7,
   "id": "7c059f42",
   "metadata": {},
   "outputs": [
    {
     "name": "stdout",
     "output_type": "stream",
     "text": [
      "usa    2065\n",
      "bra    1496\n",
      "deu     455\n",
      "tur     451\n",
      "fra     303\n",
      "can     230\n",
      "Name: COUNTRY, dtype: int64\n"
     ]
    }
   ],
   "source": [
    "# Question 5: How many sales were made from which country?\n",
    "print(df['COUNTRY'].value_counts())"
   ]
  },
  {
   "cell_type": "code",
   "execution_count": 8,
   "id": "d321ad8f",
   "metadata": {},
   "outputs": [
    {
     "name": "stdout",
     "output_type": "stream",
     "text": [
      "         PRICE\n",
      "COUNTRY       \n",
      "bra      51354\n",
      "can       7730\n",
      "deu      15485\n",
      "fra      10177\n",
      "tur      15689\n",
      "usa      70225\n"
     ]
    }
   ],
   "source": [
    "# Question 6: How much was earned in total from sales by country?\n",
    "print(df.groupby(['COUNTRY']).agg({'PRICE': 'sum'}))"
   ]
  },
  {
   "cell_type": "code",
   "execution_count": 9,
   "id": "4f81cfc8",
   "metadata": {},
   "outputs": [
    {
     "name": "stdout",
     "output_type": "stream",
     "text": [
      "SOURCE\n",
      "android    2974\n",
      "ios        2026\n",
      "Name: PRICE, dtype: int64\n",
      "SOURCE\n",
      "android    2974\n",
      "ios        2026\n",
      "Name: PRICE, dtype: int64\n"
     ]
    }
   ],
   "source": [
    "# Question 7: What are the sales numbers by SOURCE types?\n",
    "print(df.groupby('SOURCE')['PRICE'].count())# Question 7: What are the sales numbers by SOURCE types?\n",
    "print(df.groupby('SOURCE')['PRICE'].count())"
   ]
  },
  {
   "cell_type": "code",
   "execution_count": 10,
   "id": "707ed344",
   "metadata": {},
   "outputs": [
    {
     "name": "stdout",
     "output_type": "stream",
     "text": [
      "             PRICE\n",
      "COUNTRY           \n",
      "bra      34.327540\n",
      "can      33.608696\n",
      "deu      34.032967\n",
      "fra      33.587459\n",
      "tur      34.787140\n",
      "usa      34.007264\n"
     ]
    }
   ],
   "source": [
    "# Question 8: What are the PRICE averages by country?\n",
    "print(df.groupby('COUNTRY').agg({'PRICE': 'mean'}))"
   ]
  },
  {
   "cell_type": "code",
   "execution_count": 11,
   "id": "38760e24",
   "metadata": {},
   "outputs": [
    {
     "name": "stdout",
     "output_type": "stream",
     "text": [
      "             PRICE\n",
      "SOURCE            \n",
      "android  34.174849\n",
      "ios      34.069102\n"
     ]
    }
   ],
   "source": [
    "# Question 9: What are the PRICE averages according to SOURCEs?\n",
    "print(df.groupby('SOURCE').agg({'PRICE': 'mean'}))"
   ]
  },
  {
   "cell_type": "code",
   "execution_count": 12,
   "id": "e0fdc578",
   "metadata": {},
   "outputs": [
    {
     "name": "stdout",
     "output_type": "stream",
     "text": [
      "                     PRICE\n",
      "COUNTRY SOURCE            \n",
      "bra     android  34.387029\n",
      "        ios      34.222222\n",
      "can     android  33.330709\n",
      "        ios      33.951456\n",
      "deu     android  33.869888\n",
      "        ios      34.268817\n",
      "fra     android  34.312500\n",
      "        ios      32.776224\n",
      "tur     android  36.229437\n",
      "        ios      33.272727\n",
      "usa     android  33.760357\n",
      "        ios      34.371703\n"
     ]
    }
   ],
   "source": [
    "# Question 10: What are the PRICE averages in the COUNTRY-SOURCE breakdown?\n",
    "print(df.groupby(['COUNTRY', 'SOURCE']).agg({'PRICE': 'mean'}))"
   ]
  },
  {
   "cell_type": "code",
   "execution_count": 13,
   "id": "650a937c",
   "metadata": {},
   "outputs": [
    {
     "name": "stdout",
     "output_type": "stream",
     "text": [
      "                                PRICE\n",
      "COUNTRY SOURCE  SEX    AGE           \n",
      "bra     android female 15   38.714286\n",
      "                       16   35.944444\n",
      "                       17   35.666667\n",
      "                       18   32.255814\n",
      "                       19   35.206897\n",
      "...                               ...\n",
      "usa     ios     male   42   30.250000\n",
      "                       50   39.000000\n",
      "                       53   34.000000\n",
      "                       55   29.000000\n",
      "                       59   46.500000\n",
      "\n",
      "[348 rows x 1 columns]\n"
     ]
    }
   ],
   "source": [
    "# TASK-2\n",
    "df.groupby(['COUNTRY', 'SOURCE', 'SEX', 'AGE']).agg({'PRICE': 'mean'})\n",
    "print(df.groupby(['COUNTRY', 'SOURCE', 'SEX', 'AGE']).agg({'PRICE': 'mean'}))"
   ]
  },
  {
   "cell_type": "code",
   "execution_count": 14,
   "id": "f5571961",
   "metadata": {},
   "outputs": [
    {
     "name": "stdout",
     "output_type": "stream",
     "text": [
      "                            PRICE\n",
      "COUNTRY SOURCE  SEX    AGE       \n",
      "bra     android male   46    59.0\n",
      "usa     android male   36    59.0\n",
      "fra     android female 24    59.0\n",
      "usa     ios     male   32    54.0\n",
      "deu     android female 36    49.0\n"
     ]
    }
   ],
   "source": [
    "# TASK-3\n",
    "agg_df = df.groupby(['COUNTRY', 'SOURCE', 'SEX', 'AGE']).agg({'PRICE': 'mean'}).sort_values('PRICE', ascending=False)\n",
    "print(agg_df.head())"
   ]
  },
  {
   "cell_type": "code",
   "execution_count": 15,
   "id": "7424ff84",
   "metadata": {},
   "outputs": [
    {
     "name": "stdout",
     "output_type": "stream",
     "text": [
      "  COUNTRY   SOURCE     SEX  AGE  PRICE\n",
      "0     bra  android    male   46   59.0\n",
      "1     usa  android    male   36   59.0\n",
      "2     fra  android  female   24   59.0\n",
      "3     usa      ios    male   32   54.0\n",
      "4     deu  android  female   36   49.0\n"
     ]
    }
   ],
   "source": [
    "# TASK-4\n",
    "agg_df = agg_df.reset_index()\n",
    "print(agg_df.head())"
   ]
  },
  {
   "cell_type": "code",
   "execution_count": 16,
   "id": "57f001ea",
   "metadata": {},
   "outputs": [
    {
     "name": "stdout",
     "output_type": "stream",
     "text": [
      "  COUNTRY   SOURCE     SEX  AGE  PRICE AGE_CAT\n",
      "0     bra  android    male   46   59.0   41_70\n",
      "1     usa  android    male   36   59.0   31_40\n",
      "2     fra  android  female   24   59.0   24_30\n",
      "3     usa      ios    male   32   54.0   31_40\n",
      "4     deu  android  female   36   49.0   31_40\n"
     ]
    }
   ],
   "source": [
    "# TASK-5\n",
    "agg_df['AGE_CAT'] = pd.cut(x=agg_df['AGE'], bins=[0, 18, 23, 30, 40, 70], labels=['0_18', '19_23', '24_30', '31_40', '41_70'])\n",
    "print(agg_df.head())"
   ]
  },
  {
   "cell_type": "code",
   "execution_count": 17,
   "id": "41ba5d01",
   "metadata": {},
   "outputs": [
    {
     "name": "stdout",
     "output_type": "stream",
     "text": [
      "    COUNTRY   SOURCE     SEX  AGE  PRICE AGE_CAT     customers_level_based\n",
      "0       bra  android    male   46   59.0   41_70    BRA_ANDROID_MALE_41_70\n",
      "1       usa  android    male   36   59.0   31_40    USA_ANDROID_MALE_31_40\n",
      "2       fra  android  female   24   59.0   24_30  FRA_ANDROID_FEMALE_24_30\n",
      "3       usa      ios    male   32   54.0   31_40        USA_IOS_MALE_31_40\n",
      "4       deu  android  female   36   49.0   31_40  DEU_ANDROID_FEMALE_31_40\n",
      "..      ...      ...     ...  ...    ...     ...                       ...\n",
      "343     usa      ios  female   38   19.0   31_40      USA_IOS_FEMALE_31_40\n",
      "344     usa      ios  female   30   19.0   24_30      USA_IOS_FEMALE_24_30\n",
      "345     can  android  female   27   19.0   24_30  CAN_ANDROID_FEMALE_24_30\n",
      "346     fra  android    male   18   19.0    0_18     FRA_ANDROID_MALE_0_18\n",
      "347     deu  android    male   26    9.0   24_30    DEU_ANDROID_MALE_24_30\n",
      "\n",
      "[348 rows x 7 columns]\n",
      "                              PRICE\n",
      "customers_level_based              \n",
      "FRA_ANDROID_FEMALE_24_30  45.428571\n",
      "TUR_IOS_MALE_24_30        45.000000\n",
      "TUR_IOS_MALE_31_40        42.333333\n",
      "TUR_ANDROID_FEMALE_31_40  41.833333\n",
      "CAN_ANDROID_MALE_19_23    40.111111\n",
      "...                             ...\n",
      "TUR_IOS_MALE_41_70        25.052632\n",
      "TUR_IOS_MALE_19_23        24.833333\n",
      "FRA_ANDROID_MALE_0_18     24.625000\n",
      "CAN_ANDROID_FEMALE_24_30  19.000000\n",
      "DEU_ANDROID_MALE_24_30    19.000000\n",
      "\n",
      "[109 rows x 1 columns]\n"
     ]
    }
   ],
   "source": [
    "# TASK-6\n",
    "cols = [col for col in agg_df.columns if str(agg_df[col].dtypes) in ['category', 'object', 'bool']]\n",
    "customers_level_based = agg_df[cols].apply(lambda x: '_'.join(x).upper(), axis=1)\n",
    "cus_df = pd.DataFrame(customers_level_based, columns=['customers_level_based'])\n",
    "cus_df = cus_df.join(agg_df['PRICE'])\n",
    "agg_df = agg_df.join(cus_df[\"customers_level_based\"])\n",
    "print(agg_df)\n",
    "cusagg_df = cus_df.groupby('customers_level_based').agg({'PRICE': 'mean'})\n",
    "print(cusagg_df.sort_values('PRICE', ascending=False))"
   ]
  },
  {
   "cell_type": "code",
   "execution_count": 18,
   "id": "f85b3375",
   "metadata": {},
   "outputs": [
    {
     "name": "stdout",
     "output_type": "stream",
     "text": [
      "              mean        max          sum\n",
      "SEGMENT                                   \n",
      "D        27.302596  31.105263  2375.325850\n",
      "C        32.933339  34.000000  3128.667165\n",
      "B        35.436170  37.000000  2870.329792\n",
      "A        41.434736  59.000000  3521.952577\n"
     ]
    }
   ],
   "source": [
    "# TASK-7\n",
    "agg_df['SEGMENT'] = pd.qcut(agg_df['PRICE'], 4, labels=['D', 'C', 'B', 'A'])\n",
    "print(agg_df.groupby(['SEGMENT'])['PRICE'].agg(['mean', 'max', 'sum']))"
   ]
  },
  {
   "cell_type": "code",
   "execution_count": 19,
   "id": "e0690629",
   "metadata": {
    "scrolled": true
   },
   "outputs": [
    {
     "name": "stdout",
     "output_type": "stream",
     "text": [
      "SEGMENT    ['A']\n",
      "Categories (4, object): ['D' < 'C' < 'B'...\n",
      "PRICE                                              41.833333\n",
      "dtype: object\n",
      "     PRICE SEGMENT\n",
      "185   34.0       C\n"
     ]
    }
   ],
   "source": [
    "# TASK-8\n",
    "new_user = \"TUR_ANDROID_FEMALE_31_40\"\n",
    "print(agg_df[agg_df[\"customers_level_based\"] == new_user].agg({\"SEGMENT\": \"unique\",\n",
    "                                                         \"PRICE\": \"mean\"}))\n",
    "fra_user = \"FRA_ANDROID_FEMALE_31_40\"\n",
    "print( agg_df[agg_df[\"customers_level_based\"] == fra_user][[\"PRICE\", \"SEGMENT\"]])"
   ]
  }
 ],
 "metadata": {
  "kernelspec": {
   "display_name": "Python 3 (ipykernel)",
   "language": "python",
   "name": "python3"
  },
  "language_info": {
   "codemirror_mode": {
    "name": "ipython",
    "version": 3
   },
   "file_extension": ".py",
   "mimetype": "text/x-python",
   "name": "python",
   "nbconvert_exporter": "python",
   "pygments_lexer": "ipython3",
   "version": "3.10.9"
  }
 },
 "nbformat": 4,
 "nbformat_minor": 5
}
