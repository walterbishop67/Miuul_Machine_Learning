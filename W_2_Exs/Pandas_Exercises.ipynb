{
 "cells": [
  {
   "cell_type": "code",
   "execution_count": 1,
   "id": "d17000b2",
   "metadata": {},
   "outputs": [
    {
     "name": "stdout",
     "output_type": "stream",
     "text": [
      "male      577\n",
      "female    314\n",
      "Name: sex, dtype: int64\n"
     ]
    }
   ],
   "source": [
    "import seaborn as sns\n",
    "import pandas as pd\n",
    "pd.set_option('display.max_columns', None)\n",
    "pd.set_option('display.width', 500)\n",
    "\n",
    "# Task-1: Define the Titanic dataset from within the Seaborn library\n",
    "df = sns.load_dataset(\"titanic\")\n",
    "\n",
    "# Task-2: Find the number of male and female passengers in the Titanic data set\n",
    "print(df[\"sex\"].value_counts())"
   ]
  },
  {
   "cell_type": "code",
   "execution_count": 2,
   "id": "f48dd2c1",
   "metadata": {},
   "outputs": [
    {
     "name": "stdout",
     "output_type": "stream",
     "text": [
      "survived         2\n",
      "pclass           3\n",
      "sex              2\n",
      "age             88\n",
      "sibsp            7\n",
      "parch            7\n",
      "fare           248\n",
      "embarked         3\n",
      "class            3\n",
      "who              3\n",
      "adult_male       2\n",
      "deck             7\n",
      "embark_town      3\n",
      "alive            2\n",
      "alone            2\n",
      "dtype: int64\n"
     ]
    }
   ],
   "source": [
    "# Task-3: Find the number of unique values for each column\n",
    "print(df.nunique())"
   ]
  },
  {
   "cell_type": "code",
   "execution_count": 3,
   "id": "f2d5bddc",
   "metadata": {},
   "outputs": [
    {
     "name": "stdout",
     "output_type": "stream",
     "text": [
      "3\n"
     ]
    }
   ],
   "source": [
    "# Task-4: Find the number of unique values\n",
    "print(df['pclass'].nunique())"
   ]
  },
  {
   "cell_type": "code",
   "execution_count": 4,
   "id": "2fb29b0c",
   "metadata": {},
   "outputs": [
    {
     "name": "stdout",
     "output_type": "stream",
     "text": [
      "pclass    3\n",
      "parch     7\n",
      "dtype: int64\n"
     ]
    }
   ],
   "source": [
    "# Task-5: Find the number of unique values for pclass and parch column\n",
    "print(df[['pclass', 'parch']].nunique())"
   ]
  },
  {
   "cell_type": "code",
   "execution_count": 5,
   "id": "047df3a6",
   "metadata": {},
   "outputs": [
    {
     "name": "stdout",
     "output_type": "stream",
     "text": [
      "object\n",
      "category\n"
     ]
    }
   ],
   "source": [
    "# Task-6: Check the type of the embarked column. Change the type of the embarked column to Category and check that again.\n",
    "print(df['embarked'].dtype)\n",
    "df['embarked'] = df['embarked'].astype('category')\n",
    "print(df['embarked'].dtype)"
   ]
  },
  {
   "cell_type": "code",
   "execution_count": 6,
   "id": "8ded6ddf",
   "metadata": {},
   "outputs": [
    {
     "name": "stdout",
     "output_type": "stream",
     "text": [
      "     survived  pclass     sex   age  sibsp  parch     fare embarked   class    who  adult_male deck embark_town alive  alone\n",
      "1           1       1  female  38.0      1      0  71.2833        C   First  woman       False    C   Cherbourg   yes  False\n",
      "9           1       2  female  14.0      1      0  30.0708        C  Second  child       False  NaN   Cherbourg   yes  False\n",
      "19          1       3  female   NaN      0      0   7.2250        C   Third  woman       False  NaN   Cherbourg   yes   True\n",
      "26          0       3    male   NaN      0      0   7.2250        C   Third    man        True  NaN   Cherbourg    no   True\n",
      "30          0       1    male  40.0      0      0  27.7208        C   First    man        True  NaN   Cherbourg    no   True\n",
      "..        ...     ...     ...   ...    ...    ...      ...      ...     ...    ...         ...  ...         ...   ...    ...\n",
      "866         1       2  female  27.0      1      0  13.8583        C  Second  woman       False  NaN   Cherbourg   yes  False\n",
      "874         1       2  female  28.0      1      0  24.0000        C  Second  woman       False  NaN   Cherbourg   yes  False\n",
      "875         1       3  female  15.0      0      0   7.2250        C   Third  child       False  NaN   Cherbourg   yes   True\n",
      "879         1       1  female  56.0      0      1  83.1583        C   First  woman       False    C   Cherbourg   yes  False\n",
      "889         1       1    male  26.0      0      0  30.0000        C   First    man        True    C   Cherbourg   yes   True\n",
      "\n",
      "[168 rows x 15 columns]\n"
     ]
    }
   ],
   "source": [
    "# Task-7: Show all information for those with embarked value c.\n",
    "print((df[df['embarked'] == 'C']))"
   ]
  },
  {
   "cell_type": "code",
   "execution_count": 7,
   "id": "bc4f2579",
   "metadata": {},
   "outputs": [
    {
     "name": "stdout",
     "output_type": "stream",
     "text": [
      "     survived  pclass     sex   age  sibsp  parch     fare embarked   class    who  adult_male deck embark_town alive  alone\n",
      "1           1       1  female  38.0      1      0  71.2833        C   First  woman       False    C   Cherbourg   yes  False\n",
      "5           0       3    male   NaN      0      0   8.4583        Q   Third    man        True  NaN  Queenstown    no   True\n",
      "9           1       2  female  14.0      1      0  30.0708        C  Second  child       False  NaN   Cherbourg   yes  False\n",
      "16          0       3    male   2.0      4      1  29.1250        Q   Third  child       False  NaN  Queenstown    no  False\n",
      "19          1       3  female   NaN      0      0   7.2250        C   Third  woman       False  NaN   Cherbourg   yes   True\n",
      "..        ...     ...     ...   ...    ...    ...      ...      ...     ...    ...         ...  ...         ...   ...    ...\n",
      "875         1       3  female  15.0      0      0   7.2250        C   Third  child       False  NaN   Cherbourg   yes   True\n",
      "879         1       1  female  56.0      0      1  83.1583        C   First  woman       False    C   Cherbourg   yes  False\n",
      "885         0       3  female  39.0      0      5  29.1250        Q   Third  woman       False  NaN  Queenstown    no  False\n",
      "889         1       1    male  26.0      0      0  30.0000        C   First    man        True    C   Cherbourg   yes   True\n",
      "890         0       3    male  32.0      0      0   7.7500        Q   Third    man        True  NaN  Queenstown    no   True\n",
      "\n",
      "[247 rows x 15 columns]\n"
     ]
    }
   ],
   "source": [
    "# Task-8: Show all information for those with no embarked value S.\n",
    "print((df[df['embarked'] != 'S']))"
   ]
  },
  {
   "cell_type": "code",
   "execution_count": 8,
   "id": "0a5a96c6",
   "metadata": {},
   "outputs": [
    {
     "name": "stdout",
     "output_type": "stream",
     "text": [
      "     survived  pclass     sex   age  sibsp  parch     fare embarked   class    who  adult_male deck  embark_town alive  alone\n",
      "2           1       3  female  26.0      0      0   7.9250        S   Third  woman       False  NaN  Southampton   yes   True\n",
      "8           1       3  female  27.0      0      2  11.1333        S   Third  woman       False  NaN  Southampton   yes  False\n",
      "38          0       3  female  18.0      2      0  18.0000        S   Third  woman       False  NaN  Southampton    no  False\n",
      "41          0       2  female  27.0      1      0  21.0000        S  Second  woman       False  NaN  Southampton    no  False\n",
      "44          1       3  female  19.0      0      0   7.8792        Q   Third  woman       False  NaN   Queenstown   yes   True\n",
      "..        ...     ...     ...   ...    ...    ...      ...      ...     ...    ...         ...  ...          ...   ...    ...\n",
      "866         1       2  female  27.0      1      0  13.8583        C  Second  woman       False  NaN    Cherbourg   yes  False\n",
      "874         1       2  female  28.0      1      0  24.0000        C  Second  woman       False  NaN    Cherbourg   yes  False\n",
      "880         1       2  female  25.0      0      1  26.0000        S  Second  woman       False  NaN  Southampton   yes  False\n",
      "882         0       3  female  22.0      0      0  10.5167        S   Third  woman       False  NaN  Southampton    no   True\n",
      "887         1       1  female  19.0      0      0  30.0000        S   First  woman       False    B  Southampton   yes   True\n",
      "\n",
      "[104 rows x 15 columns]\n"
     ]
    }
   ],
   "source": [
    "# Task-9: Show all information for passengers younger than 30 years old and female.\n",
    "print(df[(df[\"age\"] < 30) & (df['who'] == 'woman')])"
   ]
  },
  {
   "cell_type": "code",
   "execution_count": 9,
   "id": "7bc2a85a",
   "metadata": {},
   "outputs": [
    {
     "name": "stdout",
     "output_type": "stream",
     "text": [
      "     survived  pclass     sex   age  sibsp  parch      fare embarked  class    who  adult_male deck  embark_town alive  alone\n",
      "96          0       1    male  71.0      0      0   34.6542        C  First    man        True    A    Cherbourg    no   True\n",
      "116         0       3    male  70.5      0      0    7.7500        Q  Third    man        True  NaN   Queenstown    no   True\n",
      "258         1       1  female  35.0      0      0  512.3292        C  First  woman       False  NaN    Cherbourg   yes   True\n",
      "493         0       1    male  71.0      0      0   49.5042        C  First    man        True  NaN    Cherbourg    no   True\n",
      "630         1       1    male  80.0      0      0   30.0000        S  First    man        True    A  Southampton   yes   True\n",
      "679         1       1    male  36.0      0      1  512.3292        C  First    man        True    B    Cherbourg   yes  False\n",
      "737         1       1    male  35.0      0      0  512.3292        C  First    man        True    B    Cherbourg   yes   True\n",
      "851         0       3    male  74.0      0      0    7.7750        S  Third    man        True  NaN  Southampton    no   True\n"
     ]
    }
   ],
   "source": [
    "# Task-10: Show information for passengers whose Fare is over 500 or 70 years old.\n",
    "print(df[(df[\"fare\"] > 500) | (df['age'] > 70)])"
   ]
  },
  {
   "cell_type": "code",
   "execution_count": 10,
   "id": "0de2f70a",
   "metadata": {},
   "outputs": [
    {
     "name": "stdout",
     "output_type": "stream",
     "text": [
      "survived         0\n",
      "pclass           0\n",
      "sex              0\n",
      "age            177\n",
      "sibsp            0\n",
      "parch            0\n",
      "fare             0\n",
      "embarked         2\n",
      "class            0\n",
      "who              0\n",
      "adult_male       0\n",
      "deck           688\n",
      "embark_town      2\n",
      "alive            0\n",
      "alone            0\n",
      "dtype: int64\n"
     ]
    }
   ],
   "source": [
    "# Task-11: Find the sum of the null values in each variable.\n",
    "print(df.isnull().sum())"
   ]
  },
  {
   "cell_type": "code",
   "execution_count": 11,
   "id": "ced3594c",
   "metadata": {},
   "outputs": [
    {
     "name": "stdout",
     "output_type": "stream",
     "text": [
      "     survived  pclass     sex   age  sibsp  parch     fare embarked   class  adult_male deck  embark_town alive  alone\n",
      "0           0       3    male  22.0      1      0   7.2500        S   Third        True  NaN  Southampton    no  False\n",
      "1           1       1  female  38.0      1      0  71.2833        C   First       False    C    Cherbourg   yes  False\n",
      "2           1       3  female  26.0      0      0   7.9250        S   Third       False  NaN  Southampton   yes   True\n",
      "3           1       1  female  35.0      1      0  53.1000        S   First       False    C  Southampton   yes  False\n",
      "4           0       3    male  35.0      0      0   8.0500        S   Third        True  NaN  Southampton    no   True\n",
      "..        ...     ...     ...   ...    ...    ...      ...      ...     ...         ...  ...          ...   ...    ...\n",
      "886         0       2    male  27.0      0      0  13.0000        S  Second        True  NaN  Southampton    no   True\n",
      "887         1       1  female  19.0      0      0  30.0000        S   First       False    B  Southampton   yes   True\n",
      "888         0       3  female   NaN      1      2  23.4500        S   Third       False  NaN  Southampton    no  False\n",
      "889         1       1    male  26.0      0      0  30.0000        C   First        True    C    Cherbourg   yes   True\n",
      "890         0       3    male  32.0      0      0   7.7500        Q   Third        True  NaN   Queenstown    no   True\n",
      "\n",
      "[891 rows x 14 columns]\n"
     ]
    }
   ],
   "source": [
    "# Task-12: Remove who variable from the data set.\n",
    "df = df.drop(\"who\", axis=1)\n",
    "print(df)"
   ]
  },
  {
   "cell_type": "code",
   "execution_count": 12,
   "id": "1e5c0920",
   "metadata": {},
   "outputs": [
    {
     "name": "stdout",
     "output_type": "stream",
     "text": [
      "0\n",
      "0      C\n",
      "1      C\n",
      "2      C\n",
      "3      C\n",
      "4      C\n",
      "      ..\n",
      "886    C\n",
      "887    B\n",
      "888    C\n",
      "889    C\n",
      "890    C\n",
      "Name: deck, Length: 891, dtype: category\n",
      "Categories (7, object): ['A', 'B', 'C', 'D', 'E', 'F', 'G']\n"
     ]
    }
   ],
   "source": [
    "# Task-13: Fill in the empty values in the deck variable with the most repeated value (mode) of the deck variable.\n",
    "df['deck'].fillna(df['deck'].mode()[0], inplace=True)\n",
    "print(df['deck'].isnull().sum())\n",
    "print(df['deck'])"
   ]
  },
  {
   "cell_type": "code",
   "execution_count": 13,
   "id": "4a625f8e",
   "metadata": {},
   "outputs": [
    {
     "name": "stdout",
     "output_type": "stream",
     "text": [
      "28.0\n",
      "0      22.0\n",
      "1      38.0\n",
      "2      26.0\n",
      "3      35.0\n",
      "4      35.0\n",
      "       ... \n",
      "886    27.0\n",
      "887    19.0\n",
      "888    28.0\n",
      "889    26.0\n",
      "890    32.0\n",
      "Name: age, Length: 891, dtype: float64\n"
     ]
    }
   ],
   "source": [
    "# Task-14: Fill in the blank values in the age variable with the median of the age variable.\n",
    "print(df['age'].median())\n",
    "df[\"age\"].fillna(df['age'].median(), inplace=True)\n",
    "print(df['age'])"
   ]
  },
  {
   "cell_type": "code",
   "execution_count": 14,
   "id": "643bec33",
   "metadata": {},
   "outputs": [
    {
     "name": "stdout",
     "output_type": "stream",
     "text": [
      "               sum  count      mean\n",
      "pclass sex                         \n",
      "1      female   91     94  0.968085\n",
      "       male     45    122  0.368852\n",
      "2      female   70     76  0.921053\n",
      "       male     17    108  0.157407\n",
      "3      female   72    144  0.500000\n",
      "       male     47    347  0.135447\n"
     ]
    }
   ],
   "source": [
    "# Task-15: Find the sum, count, mean values of the pclass and gender variables of the survived variable.\n",
    "print(df.groupby(['pclass', 'sex'])['survived'].agg(['sum', 'count', 'mean']))"
   ]
  },
  {
   "cell_type": "code",
   "execution_count": 15,
   "id": "43fe4bc3",
   "metadata": {},
   "outputs": [
    {
     "name": "stdout",
     "output_type": "stream",
     "text": [
      "     survived  pclass     sex   age  sibsp  parch     fare embarked   class  adult_male deck  embark_town alive  alone  age_flag\n",
      "0           0       3    male  22.0      1      0   7.2500        S   Third        True    C  Southampton    no  False         1\n",
      "1           1       1  female  38.0      1      0  71.2833        C   First       False    C    Cherbourg   yes  False         0\n",
      "2           1       3  female  26.0      0      0   7.9250        S   Third       False    C  Southampton   yes   True         1\n",
      "3           1       1  female  35.0      1      0  53.1000        S   First       False    C  Southampton   yes  False         0\n",
      "4           0       3    male  35.0      0      0   8.0500        S   Third        True    C  Southampton    no   True         0\n",
      "..        ...     ...     ...   ...    ...    ...      ...      ...     ...         ...  ...          ...   ...    ...       ...\n",
      "886         0       2    male  27.0      0      0  13.0000        S  Second        True    C  Southampton    no   True         1\n",
      "887         1       1  female  19.0      0      0  30.0000        S   First       False    B  Southampton   yes   True         1\n",
      "888         0       3  female  28.0      1      2  23.4500        S   Third       False    C  Southampton    no  False         1\n",
      "889         1       1    male  26.0      0      0  30.0000        C   First        True    C    Cherbourg   yes   True         1\n",
      "890         0       3    male  32.0      0      0   7.7500        Q   Third        True    C   Queenstown    no   True         0\n",
      "\n",
      "[891 rows x 15 columns]\n"
     ]
    }
   ],
   "source": [
    "# Task-16: Write a function that gives 1 to those under 30 and 0 to those above and equal to 30.\n",
    "# Create a variable named age_flag in the titanic dataset using the function you wrote (use apply and lambda constructs).\n",
    "\n",
    "df[\"age_flag\"] = df[\"age\"].apply(lambda age: 1 if age < 30 else 0)\n",
    "print(df)"
   ]
  },
  {
   "cell_type": "code",
   "execution_count": 16,
   "id": "86ba9cf0",
   "metadata": {},
   "outputs": [
    {
     "name": "stdout",
     "output_type": "stream",
     "text": [
      "     total_bill   tip     sex smoker   day    time  size\n",
      "0         16.99  1.01  Female     No   Sun  Dinner     2\n",
      "1         10.34  1.66    Male     No   Sun  Dinner     3\n",
      "2         21.01  3.50    Male     No   Sun  Dinner     3\n",
      "3         23.68  3.31    Male     No   Sun  Dinner     2\n",
      "4         24.59  3.61  Female     No   Sun  Dinner     4\n",
      "..          ...   ...     ...    ...   ...     ...   ...\n",
      "239       29.03  5.92    Male     No   Sat  Dinner     3\n",
      "240       27.18  2.00  Female    Yes   Sat  Dinner     2\n",
      "241       22.67  2.00    Male    Yes   Sat  Dinner     2\n",
      "242       17.82  1.75    Male     No   Sat  Dinner     2\n",
      "243       18.78  3.00  Female     No  Thur  Dinner     2\n",
      "\n",
      "[244 rows x 7 columns]\n"
     ]
    }
   ],
   "source": [
    "# Task-17: Define the tips data set from the Seaborn library.\n",
    "df_tips = sns.load_dataset('tips')\n",
    "print(df_tips)"
   ]
  },
  {
   "cell_type": "code",
   "execution_count": 17,
   "id": "ea45402d",
   "metadata": {},
   "outputs": [
    {
     "name": "stdout",
     "output_type": "stream",
     "text": [
      "         min    max       mean\n",
      "time                          \n",
      "Lunch   7.51  43.11  17.168676\n",
      "Dinner  3.07  50.81  20.797159\n"
     ]
    }
   ],
   "source": [
    "# Task-18: Find the sum, min, max and average of the total_bill values according to the categories (Dinner, Lunch) of the time variable.\n",
    "print(df_tips.groupby(['time'])['total_bill'].agg(['min', 'max', 'mean']))"
   ]
  },
  {
   "cell_type": "code",
   "execution_count": 18,
   "id": "b94d5733",
   "metadata": {},
   "outputs": [
    {
     "name": "stdout",
     "output_type": "stream",
     "text": [
      "            total_bill                         \n",
      "                   sum    min    max       mean\n",
      "day  time                                      \n",
      "Thur Lunch     1077.55   7.51  43.11  17.664754\n",
      "     Dinner      18.78  18.78  18.78  18.780000\n",
      "Fri  Lunch       89.92   8.58  16.27  12.845714\n",
      "     Dinner     235.96   5.75  40.17  19.663333\n",
      "Sat  Lunch        0.00    NaN    NaN        NaN\n",
      "     Dinner    1778.40   3.07  50.81  20.441379\n",
      "Sun  Lunch        0.00    NaN    NaN        NaN\n",
      "     Dinner    1627.16   7.25  48.17  21.410000\n"
     ]
    }
   ],
   "source": [
    "# Task-19: Find the sum, min, max and average of total_bill values according to day and time variables.\n",
    "print(df_tips.groupby(['day', 'time']).agg({'total_bill': ['sum', 'min', 'max', 'mean']}))"
   ]
  },
  {
   "cell_type": "code",
   "execution_count": 19,
   "id": "6d57c87b",
   "metadata": {},
   "outputs": [
    {
     "name": "stdout",
     "output_type": "stream",
     "text": [
      "     total_bill                    tip                \n",
      "            min    max      mean   min   max      mean\n",
      "day                                                   \n",
      "Thur       8.35  43.11  16.64871  1.25  5.17  2.561935\n",
      "Fri       10.09  16.27  13.94000  2.00  3.48  2.745000\n",
      "Sat         NaN    NaN       NaN   NaN   NaN       NaN\n",
      "Sun         NaN    NaN       NaN   NaN   NaN       NaN\n"
     ]
    }
   ],
   "source": [
    "# Task-20: Find the sum, min, max and average of the total_bill and type values of the lunch time and female customers according to the day\n",
    "print(df_tips[(df_tips['time'] == \"Lunch\") & (df_tips['sex'] == \"Female\")].groupby(['day']).agg({'total_bill':['min', 'max', 'mean'],\n",
    "                                                                             'tip': ['min', 'max', 'mean']}))"
   ]
  },
  {
   "cell_type": "code",
   "execution_count": 20,
   "id": "cf0ca7b8",
   "metadata": {},
   "outputs": [
    {
     "name": "stdout",
     "output_type": "stream",
     "text": [
      "total_bill    17.184965\n",
      "tip            2.638811\n",
      "size           1.993007\n",
      "dtype: float64\n"
     ]
    }
   ],
   "source": [
    "# Task-21: Use loc to find the average of orders with a size value less than 3 and a total_bill value greater than 10.\n",
    "print(df_tips.loc[(df_tips['size'] < 3) & (df_tips['total_bill'] > 10), :].mean(numeric_only=True))"
   ]
  },
  {
   "cell_type": "code",
   "execution_count": 21,
   "id": "0515e4a9",
   "metadata": {},
   "outputs": [
    {
     "name": "stdout",
     "output_type": "stream",
     "text": [
      "     total_bill   tip     sex smoker   day    time  size  total_bill_tip_sum\n",
      "0         16.99  1.01  Female     No   Sun  Dinner     2               18.00\n",
      "1         10.34  1.66    Male     No   Sun  Dinner     3               12.00\n",
      "2         21.01  3.50    Male     No   Sun  Dinner     3               24.51\n",
      "3         23.68  3.31    Male     No   Sun  Dinner     2               26.99\n",
      "4         24.59  3.61  Female     No   Sun  Dinner     4               28.20\n",
      "..          ...   ...     ...    ...   ...     ...   ...                 ...\n",
      "239       29.03  5.92    Male     No   Sat  Dinner     3               34.95\n",
      "240       27.18  2.00  Female    Yes   Sat  Dinner     2               29.18\n",
      "241       22.67  2.00    Male    Yes   Sat  Dinner     2               24.67\n",
      "242       17.82  1.75    Male     No   Sat  Dinner     2               19.57\n",
      "243       18.78  3.00  Female     No  Thur  Dinner     2               21.78\n",
      "\n",
      "[244 rows x 8 columns]\n"
     ]
    }
   ],
   "source": [
    "# Task-22: total_bill_tip_sum entities are your new variable creator. Returns the total of the total bill and tip paid for each of his lifetimes.\n",
    "df_tips['total_bill_tip_sum'] = df_tips['total_bill'] + df_tips['tip']\n",
    "print(df_tips)"
   ]
  },
  {
   "cell_type": "code",
   "execution_count": 22,
   "id": "3aa51762",
   "metadata": {},
   "outputs": [
    {
     "name": "stdout",
     "output_type": "stream",
     "text": [
      "     total_bill    tip     sex smoker   day    time  size  total_bill_tip_sum\n",
      "170       50.81  10.00    Male    Yes   Sat  Dinner     3               60.81\n",
      "212       48.33   9.00    Male     No   Sat  Dinner     4               57.33\n",
      "59        48.27   6.73    Male     No   Sat  Dinner     4               55.00\n",
      "156       48.17   5.00    Male     No   Sun  Dinner     6               53.17\n",
      "182       45.35   3.50    Male    Yes   Sun  Dinner     3               48.85\n",
      "197       43.11   5.00  Female    Yes  Thur   Lunch     4               48.11\n",
      "23        39.42   7.58    Male     No   Sat  Dinner     4               47.00\n",
      "102       44.30   2.50  Female    Yes   Sat  Dinner     3               46.80\n",
      "142       41.19   5.00    Male     No  Thur   Lunch     5               46.19\n",
      "95        40.17   4.73    Male    Yes   Fri  Dinner     4               44.90\n",
      "184       40.55   3.00    Male    Yes   Sun  Dinner     2               43.55\n",
      "112       38.07   4.00    Male     No   Sun  Dinner     3               42.07\n",
      "207       38.73   3.00    Male    Yes   Sat  Dinner     4               41.73\n",
      "56        38.01   3.00    Male    Yes   Sat  Dinner     4               41.01\n",
      "141       34.30   6.70    Male     No  Thur   Lunch     6               41.00\n",
      "238       35.83   4.67  Female     No   Sat  Dinner     3               40.50\n",
      "11        35.26   5.00  Female     No   Sun  Dinner     4               40.26\n",
      "52        34.81   5.20  Female     No   Sun  Dinner     4               40.01\n",
      "85        34.83   5.17  Female     No  Thur   Lunch     4               40.00\n",
      "47        32.40   6.00    Male     No   Sun  Dinner     4               38.40\n",
      "180       34.65   3.68    Male    Yes   Sun  Dinner     4               38.33\n",
      "179       34.63   3.55    Male    Yes   Sun  Dinner     2               38.18\n",
      "83        32.68   5.00    Male    Yes  Thur   Lunch     2               37.68\n",
      "39        31.27   5.00    Male     No   Sat  Dinner     3               36.27\n",
      "167       31.71   4.50    Male     No   Sun  Dinner     4               36.21\n",
      "175       32.90   3.11    Male    Yes   Sun  Dinner     2               36.01\n",
      "44        30.40   5.60    Male     No   Sun  Dinner     4               36.00\n",
      "173       31.85   3.18    Male    Yes   Sun  Dinner     2               35.03\n",
      "116       29.93   5.07    Male     No   Sun  Dinner     4               35.00\n",
      "155       29.85   5.14  Female     No   Sun  Dinner     5               34.99\n"
     ]
    }
   ],
   "source": [
    "# Task-23: Sort the data set from largest to smallest according to the total_bill_tip_sum variable and assign the first 30\n",
    "df_t = df_tips.sort_values(by='total_bill_tip_sum', ascending=False).head(30)\n",
    "print(df_t)"
   ]
  },
  {
   "cell_type": "code",
   "execution_count": null,
   "id": "b1114c0e",
   "metadata": {},
   "outputs": [],
   "source": []
  }
 ],
 "metadata": {
  "kernelspec": {
   "display_name": "Python 3 (ipykernel)",
   "language": "python",
   "name": "python3"
  },
  "language_info": {
   "codemirror_mode": {
    "name": "ipython",
    "version": 3
   },
   "file_extension": ".py",
   "mimetype": "text/x-python",
   "name": "python",
   "nbconvert_exporter": "python",
   "pygments_lexer": "ipython3",
   "version": "3.10.9"
  }
 },
 "nbformat": 4,
 "nbformat_minor": 5
}
