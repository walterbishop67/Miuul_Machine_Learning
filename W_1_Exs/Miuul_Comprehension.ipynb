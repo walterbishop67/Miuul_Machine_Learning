{
 "cells": [
  {
   "cell_type": "code",
   "execution_count": 2,
   "id": "16983414",
   "metadata": {},
   "outputs": [
    {
     "name": "stdout",
     "output_type": "stream",
     "text": [
      "{'NUM_ALCOHOL', 'NUM_TOTAL', 'NUM_INS_PREMIUM', 'NUM_INS_LOSSES', 'NUM_NOT_DISTRACTED', 'NUM_SPEEDING', 'NUM_NO_PREVIOUS', 'ABBREV'}\n"
     ]
    }
   ],
   "source": [
    "import seaborn as sns\n",
    "\n",
    "df = sns.load_dataset(\"car_crashes\")\n",
    "\n",
    "a = {\"NUM_\" + i.upper() if df[i].dtype == float or df[i].dtype == int else i.upper() for i in df.columns}\n",
    "\n",
    "print(a)\n"
   ]
  },
  {
   "cell_type": "code",
   "execution_count": 3,
   "id": "dc2f3cf4",
   "metadata": {},
   "outputs": [
    {
     "name": "stdout",
     "output_type": "stream",
     "text": [
      "{'NO_PREVIOUS', 'ALCOHOL_FLAG', 'TOTAL_FLAG', 'ABBREV_FLAG', 'SPEEDING_FLAG', 'INS_LOSSES_FLAG', 'NOT_DISTRACTED', 'INS_PREMIUM_FLAG'}\n"
     ]
    }
   ],
   "source": [
    "b = {i.upper() + \"_FLAG\" if \"no\" not in i else i.upper() for i in df.columns}\n",
    "\n",
    "print(b)"
   ]
  },
  {
   "cell_type": "code",
   "execution_count": 4,
   "id": "60f15724",
   "metadata": {},
   "outputs": [
    {
     "name": "stdout",
     "output_type": "stream",
     "text": [
      "   total  speeding  alcohol  not_distracted  ins_premium  ins_losses\n",
      "0   18.8     7.332    5.640          18.048       784.55      145.08\n",
      "1   18.1     7.421    4.525          16.290      1053.48      133.93\n",
      "2   18.6     6.510    5.208          15.624       899.47      110.35\n",
      "3   22.4     4.032    5.824          21.056       827.34      142.39\n",
      "4   12.0     4.200    3.360          10.920       878.41      165.63\n"
     ]
    }
   ],
   "source": [
    "og_list = [\"abbrev\", \"no_previous\"]\n",
    "\n",
    "new_cols = [k for k in df.columns if k not in og_list]\n",
    "new_df = df[new_cols]\n",
    "\n",
    "print(new_df.head())"
   ]
  }
 ],
 "metadata": {
  "kernelspec": {
   "display_name": "Python 3 (ipykernel)",
   "language": "python",
   "name": "python3"
  },
  "language_info": {
   "codemirror_mode": {
    "name": "ipython",
    "version": 3
   },
   "file_extension": ".py",
   "mimetype": "text/x-python",
   "name": "python",
   "nbconvert_exporter": "python",
   "pygments_lexer": "ipython3",
   "version": "3.10.9"
  }
 },
 "nbformat": 4,
 "nbformat_minor": 5
}
